{
 "cells": [
  {
   "cell_type": "markdown",
   "id": "9202b97d",
   "metadata": {},
   "source": [
    "# Joke Ruiner\n",
    "Daniel Gieseke | September 2023\n",
    "\n",
    "This project takes in jokes from a joke API, separates the jokes between the questions and answers, then provides mismatched jokes, effectively ruining perfectly good jokes.  This project is a practice of pulling from APIs and manipulating text using Python.\n",
    "\n",
    "Data Source: https://github.com/15Dkatz/official_joke_api"
   ]
  },
  {
   "cell_type": "code",
   "execution_count": 43,
   "id": "e95aa07f",
   "metadata": {},
   "outputs": [],
   "source": [
    "import pandas as pd\n",
    "import requests\n",
    "import random"
   ]
  },
  {
   "cell_type": "code",
   "execution_count": 44,
   "id": "b9ee0f2a",
   "metadata": {},
   "outputs": [],
   "source": [
    "# Making a request to the joke API to receive a set of jokes\n",
    "jokes = requests.get('https://official-joke-api.appspot.com/random_ten')"
   ]
  },
  {
   "cell_type": "code",
   "execution_count": 45,
   "id": "c10c5762",
   "metadata": {},
   "outputs": [
    {
     "data": {
      "text/plain": [
       "[{'type': 'general',\n",
       "  'setup': \"What's the worst part about being a cross-eyed teacher?\",\n",
       "  'punchline': \"They can't control their pupils.\",\n",
       "  'id': 278},\n",
       " {'type': 'general',\n",
       "  'setup': 'How many apples grow on a tree?',\n",
       "  'punchline': 'All of them!',\n",
       "  'id': 138},\n",
       " {'type': 'general',\n",
       "  'setup': 'What do you get when you cross a bee and a sheep?',\n",
       "  'punchline': 'A bah-humbug.',\n",
       "  'id': 232},\n",
       " {'type': 'general',\n",
       "  'setup': 'What did the Zen Buddist say to the hotdog vendor?',\n",
       "  'punchline': 'Make me one with everything.',\n",
       "  'id': 188},\n",
       " {'type': 'general',\n",
       "  'setup': \"I got hit in the head by a soda can, but it didn't hurt that much...\",\n",
       "  'punchline': 'It was a soft drink.',\n",
       "  'id': 69},\n",
       " {'type': 'general',\n",
       "  'setup': 'What was a more important invention than the first telephone?',\n",
       "  'punchline': 'The second one.',\n",
       "  'id': 267},\n",
       " {'type': 'general',\n",
       "  'setup': 'What do you call a troublesome Canadian high schooler?',\n",
       "  'punchline': 'A poutine.',\n",
       "  'id': 219},\n",
       " {'type': 'general',\n",
       "  'setup': 'I saw a nice stereo on Craigslist for $1. Seller says the volume is stuck on ‘high’',\n",
       "  'punchline': 'I couldn’t turn it down.',\n",
       "  'id': 377},\n",
       " {'type': 'general',\n",
       "  'setup': 'Why are pirates called pirates?',\n",
       "  'punchline': 'Because they arrr!',\n",
       "  'id': 309},\n",
       " {'type': 'general',\n",
       "  'setup': 'Did you hear about the crime in the parking garage?',\n",
       "  'punchline': 'It was wrong on so many levels.',\n",
       "  'id': 402}]"
      ]
     },
     "execution_count": 45,
     "metadata": {},
     "output_type": "execute_result"
    }
   ],
   "source": [
    "# Converting pulled data to a list and viewing initial jokes\n",
    "jokes = jokes.json()\n",
    "jokes"
   ]
  },
  {
   "cell_type": "code",
   "execution_count": 46,
   "id": "a7d5b839",
   "metadata": {},
   "outputs": [],
   "source": [
    "# Separating the setups and the punchlines from the list of jokes\n",
    "setups = []\n",
    "punchlines = []\n",
    "for joke in jokes:\n",
    "    setups.append(joke['setup'])\n",
    "    punchlines.append(joke['punchline'])"
   ]
  },
  {
   "cell_type": "code",
   "execution_count": 47,
   "id": "5bf365b2",
   "metadata": {},
   "outputs": [],
   "source": [
    "# Mixing up the punchlines\n",
    "random.shuffle(punchlines)"
   ]
  },
  {
   "cell_type": "code",
   "execution_count": 51,
   "id": "0588abd6",
   "metadata": {},
   "outputs": [],
   "source": [
    "# Reassembling the ruined jokes\n",
    "ruined_jokes = []\n",
    "for i, setup in enumerate(setups):\n",
    "    dictionary = {}\n",
    "    dictionary['setup'] = setup\n",
    "    dictionary['punchline'] = punchlines[i]\n",
    "    ruined_jokes.append(dictionary)"
   ]
  },
  {
   "cell_type": "code",
   "execution_count": 52,
   "id": "63dfb8b2",
   "metadata": {},
   "outputs": [
    {
     "data": {
      "text/plain": [
       "[{'setup': \"What's the worst part about being a cross-eyed teacher?\",\n",
       "  'punchline': 'Make me one with everything.'},\n",
       " {'setup': 'How many apples grow on a tree?', 'punchline': 'The second one.'},\n",
       " {'setup': 'What do you get when you cross a bee and a sheep?',\n",
       "  'punchline': 'A poutine.'},\n",
       " {'setup': 'What did the Zen Buddist say to the hotdog vendor?',\n",
       "  'punchline': 'A bah-humbug.'},\n",
       " {'setup': \"I got hit in the head by a soda can, but it didn't hurt that much...\",\n",
       "  'punchline': 'All of them!'},\n",
       " {'setup': 'What was a more important invention than the first telephone?',\n",
       "  'punchline': 'It was a soft drink.'},\n",
       " {'setup': 'What do you call a troublesome Canadian high schooler?',\n",
       "  'punchline': 'It was wrong on so many levels.'},\n",
       " {'setup': 'I saw a nice stereo on Craigslist for $1. Seller says the volume is stuck on ‘high’',\n",
       "  'punchline': 'I couldn’t turn it down.'},\n",
       " {'setup': 'Why are pirates called pirates?',\n",
       "  'punchline': \"They can't control their pupils.\"},\n",
       " {'setup': 'Did you hear about the crime in the parking garage?',\n",
       "  'punchline': 'Because they arrr!'}]"
      ]
     },
     "execution_count": 52,
     "metadata": {},
     "output_type": "execute_result"
    }
   ],
   "source": [
    "# Viewing the final list of ruined jokes\n",
    "ruined_jokes"
   ]
  },
  {
   "cell_type": "code",
   "execution_count": null,
   "id": "29567f8a",
   "metadata": {},
   "outputs": [],
   "source": []
  }
 ],
 "metadata": {
  "kernelspec": {
   "display_name": "Python (learn-env)",
   "language": "python",
   "name": "learn-env"
  },
  "language_info": {
   "codemirror_mode": {
    "name": "ipython",
    "version": 3
   },
   "file_extension": ".py",
   "mimetype": "text/x-python",
   "name": "python",
   "nbconvert_exporter": "python",
   "pygments_lexer": "ipython3",
   "version": "3.8.5"
  }
 },
 "nbformat": 4,
 "nbformat_minor": 5
}
